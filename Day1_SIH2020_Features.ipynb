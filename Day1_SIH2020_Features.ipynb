{
  "nbformat": 4,
  "nbformat_minor": 0,
  "metadata": {
    "colab": {
      "name": "Day1_SIH2020_Features.ipynb",
      "provenance": [],
      "toc_visible": true,
      "include_colab_link": true
    },
    "kernelspec": {
      "name": "python3",
      "display_name": "Python 3"
    }
  },
  "cells": [
    {
      "cell_type": "markdown",
      "metadata": {
        "id": "view-in-github",
        "colab_type": "text"
      },
      "source": [
        "<a href=\"https://colab.research.google.com/github/DhamodaranN/webscraping/blob/master/Day1_SIH2020_Features.ipynb\" target=\"_parent\"><img src=\"https://colab.research.google.com/assets/colab-badge.svg\" alt=\"Open In Colab\"/></a>"
      ]
    },
    {
      "cell_type": "code",
      "metadata": {
        "id": "IPXP2wU6dtUv",
        "colab_type": "code",
        "colab": {
          "base_uri": "https://localhost:8080/",
          "height": 119
        },
        "outputId": "38576eb1-e8d2-4d87-cbc4-7869186d6c1d"
      },
      "source": [
        "pip install request"
      ],
      "execution_count": 2,
      "outputs": [
        {
          "output_type": "stream",
          "text": [
            "Requirement already satisfied: request in /usr/local/lib/python3.6/dist-packages (1.0.117)\n",
            "Requirement already satisfied: requests in /usr/local/lib/python3.6/dist-packages (from request) (2.23.0)\n",
            "Requirement already satisfied: idna<3,>=2.5 in /usr/local/lib/python3.6/dist-packages (from requests->request) (2.10)\n",
            "Requirement already satisfied: urllib3!=1.25.0,!=1.25.1,<1.26,>=1.21.1 in /usr/local/lib/python3.6/dist-packages (from requests->request) (1.24.3)\n",
            "Requirement already satisfied: certifi>=2017.4.17 in /usr/local/lib/python3.6/dist-packages (from requests->request) (2020.6.20)\n",
            "Requirement already satisfied: chardet<4,>=3.0.2 in /usr/local/lib/python3.6/dist-packages (from requests->request) (3.0.4)\n"
          ],
          "name": "stdout"
        }
      ]
    },
    {
      "cell_type": "code",
      "metadata": {
        "id": "HNV_T2GodwZQ",
        "colab_type": "code",
        "colab": {
          "base_uri": "https://localhost:8080/",
          "height": 34
        },
        "outputId": "ec56f8f9-6903-4b99-ab48-b9995fd922ef"
      },
      "source": [
        "pip install wwo-hist"
      ],
      "execution_count": 4,
      "outputs": [
        {
          "output_type": "stream",
          "text": [
            "Requirement already satisfied: wwo-hist in /usr/local/lib/python3.6/dist-packages (0.0.5)\n"
          ],
          "name": "stdout"
        }
      ]
    },
    {
      "cell_type": "code",
      "metadata": {
        "id": "KuE5G0QLeXSH",
        "colab_type": "code",
        "colab": {}
      },
      "source": [
        "from wwo_hist import retrieve_hist_data"
      ],
      "execution_count": 5,
      "outputs": []
    },
    {
      "cell_type": "code",
      "metadata": {
        "id": "z2hKobmQgEv2",
        "colab_type": "code",
        "colab": {}
      },
      "source": [
        "import os\n",
        "os.mkdir(\"data\")\n",
        "os.chdir(\"data\")"
      ],
      "execution_count": 7,
      "outputs": []
    },
    {
      "cell_type": "markdown",
      "metadata": {
        "id": "07zvlWdLpXAc",
        "colab_type": "text"
      },
      "source": [
        "# Features under exploration\n",
        "\n",
        "- Rainfall.   - Wold weather online.com API\n",
        "- Elvation    - World weather online.com API\n",
        "- Humidity    - World weather online.com API\n",
        "\n",
        "\n"
      ]
    },
    {
      "cell_type": "code",
      "metadata": {
        "id": "EPiZCx3Cefi9",
        "colab_type": "code",
        "colab": {
          "base_uri": "https://localhost:8080/",
          "height": 1000
        },
        "outputId": "bf385275-752d-4a05-b9cd-6bfcf027beaf"
      },
      "source": [
        "frequency=24\n",
        "start_date = '01-JAN-2018'\n",
        "end_date = '31-DEC-2019'\n",
        "api_key = '449f0a6375314d9994e140823200108'\n",
        "location_list = ['chennai']\n",
        "\n",
        "hist_weather_data = retrieve_hist_data(api_key,\n",
        "                                location_list,\n",
        "                                start_date,\n",
        "                                end_date,\n",
        "                                frequency,\n",
        "                                location_label = True,\n",
        "                                export_csv = True,\n",
        "                                store_df = True)"
      ],
      "execution_count": 8,
      "outputs": [
        {
          "output_type": "stream",
          "text": [
            "\n",
            "\n",
            "Retrieving weather data for chennai\n",
            "\n",
            "\n",
            "Currently retrieving data for chennai: from 2018-01-01 to 2018-01-31\n",
            "Time elapsed (hh:mm:ss.ms) 0:00:00.813518\n",
            "Currently retrieving data for chennai: from 2018-02-01 to 2018-02-28\n",
            "Time elapsed (hh:mm:ss.ms) 0:00:01.474389\n",
            "Currently retrieving data for chennai: from 2018-03-01 to 2018-03-31\n",
            "Time elapsed (hh:mm:ss.ms) 0:00:02.304777\n",
            "Currently retrieving data for chennai: from 2018-04-01 to 2018-04-30\n",
            "Time elapsed (hh:mm:ss.ms) 0:00:02.985470\n",
            "Currently retrieving data for chennai: from 2018-05-01 to 2018-05-31\n",
            "Time elapsed (hh:mm:ss.ms) 0:00:03.745803\n",
            "Currently retrieving data for chennai: from 2018-06-01 to 2018-06-30\n",
            "Time elapsed (hh:mm:ss.ms) 0:00:04.473299\n",
            "Currently retrieving data for chennai: from 2018-07-01 to 2018-07-31\n",
            "Time elapsed (hh:mm:ss.ms) 0:00:05.205078\n",
            "Currently retrieving data for chennai: from 2018-08-01 to 2018-08-31\n",
            "Time elapsed (hh:mm:ss.ms) 0:00:05.928892\n",
            "Currently retrieving data for chennai: from 2018-09-01 to 2018-09-30\n",
            "Time elapsed (hh:mm:ss.ms) 0:00:06.622378\n",
            "Currently retrieving data for chennai: from 2018-10-01 to 2018-10-31\n",
            "Time elapsed (hh:mm:ss.ms) 0:00:07.375327\n",
            "Currently retrieving data for chennai: from 2018-11-01 to 2018-11-30\n",
            "Time elapsed (hh:mm:ss.ms) 0:00:08.088875\n",
            "Currently retrieving data for chennai: from 2018-12-01 to 2018-12-31\n",
            "Time elapsed (hh:mm:ss.ms) 0:00:09.011313\n",
            "Currently retrieving data for chennai: from 2019-01-01 to 2019-01-31\n",
            "Time elapsed (hh:mm:ss.ms) 0:00:10.436220\n",
            "Currently retrieving data for chennai: from 2019-02-01 to 2019-02-28\n",
            "Time elapsed (hh:mm:ss.ms) 0:00:11.091848\n",
            "Currently retrieving data for chennai: from 2019-03-01 to 2019-03-31\n",
            "Time elapsed (hh:mm:ss.ms) 0:00:11.818003\n",
            "Currently retrieving data for chennai: from 2019-04-01 to 2019-04-30\n",
            "Time elapsed (hh:mm:ss.ms) 0:00:12.546044\n",
            "Currently retrieving data for chennai: from 2019-05-01 to 2019-05-31\n",
            "Time elapsed (hh:mm:ss.ms) 0:00:13.305837\n",
            "Currently retrieving data for chennai: from 2019-06-01 to 2019-06-30\n",
            "Time elapsed (hh:mm:ss.ms) 0:00:14.213821\n",
            "Currently retrieving data for chennai: from 2019-07-01 to 2019-07-31\n",
            "Time elapsed (hh:mm:ss.ms) 0:00:14.964402\n",
            "Currently retrieving data for chennai: from 2019-08-01 to 2019-08-31\n",
            "Time elapsed (hh:mm:ss.ms) 0:00:15.715496\n",
            "Currently retrieving data for chennai: from 2019-09-01 to 2019-09-30\n",
            "Time elapsed (hh:mm:ss.ms) 0:00:16.436759\n",
            "Currently retrieving data for chennai: from 2019-10-01 to 2019-10-31\n",
            "Time elapsed (hh:mm:ss.ms) 0:00:17.221859\n",
            "Currently retrieving data for chennai: from 2019-11-01 to 2019-11-30\n",
            "Time elapsed (hh:mm:ss.ms) 0:00:17.944188\n",
            "Currently retrieving data for chennai: from 2019-12-01 to 2019-12-31\n",
            "Time elapsed (hh:mm:ss.ms) 0:00:18.687797\n",
            "\n",
            "\n",
            "export chennai completed!\n",
            "\n",
            "\n"
          ],
          "name": "stdout"
        }
      ]
    },
    {
      "cell_type": "code",
      "metadata": {
        "id": "p13ED144gdCM",
        "colab_type": "code",
        "colab": {
          "base_uri": "https://localhost:8080/",
          "height": 255
        },
        "outputId": "24ee8951-a7f9-4b2a-bcb2-ddbc4de0254c"
      },
      "source": [
        "display(hist_weather_data)"
      ],
      "execution_count": 9,
      "outputs": [
        {
          "output_type": "display_data",
          "data": {
            "text/plain": [
              "[    date_time chennai_maxtempC  ... chennai_windspeedKmph chennai_location\n",
              " 0  2018-01-01               29  ...                    16          chennai\n",
              " 0  2018-01-02               29  ...                    14          chennai\n",
              " 0  2018-01-03               29  ...                    15          chennai\n",
              " 0  2018-01-04               28  ...                    15          chennai\n",
              " 0  2018-01-05               27  ...                    14          chennai\n",
              " ..        ...              ...  ...                   ...              ...\n",
              " 0  2019-12-27               28  ...                    11          chennai\n",
              " 0  2019-12-28               28  ...                    13          chennai\n",
              " 0  2019-12-29               28  ...                    16          chennai\n",
              " 0  2019-12-30               26  ...                    18          chennai\n",
              " 0  2019-12-31               28  ...                    17          chennai\n",
              " \n",
              " [730 rows x 25 columns]]"
            ]
          },
          "metadata": {
            "tags": []
          }
        }
      ]
    },
    {
      "cell_type": "code",
      "metadata": {
        "id": "q5IiVbFkgx4m",
        "colab_type": "code",
        "colab": {}
      },
      "source": [
        "import pandas as pd\n",
        "df = pd.DataFrame(hist_weather_data)"
      ],
      "execution_count": 11,
      "outputs": []
    },
    {
      "cell_type": "code",
      "metadata": {
        "id": "XGbpU8Ajh_-u",
        "colab_type": "code",
        "colab": {
          "base_uri": "https://localhost:8080/",
          "height": 255
        },
        "outputId": "01e7113e-e818-4cdc-aec8-ea7fe4ff8516"
      },
      "source": [
        "hist_weather_data"
      ],
      "execution_count": 13,
      "outputs": [
        {
          "output_type": "execute_result",
          "data": {
            "text/plain": [
              "[    date_time chennai_maxtempC  ... chennai_windspeedKmph chennai_location\n",
              " 0  2018-01-01               29  ...                    16          chennai\n",
              " 0  2018-01-02               29  ...                    14          chennai\n",
              " 0  2018-01-03               29  ...                    15          chennai\n",
              " 0  2018-01-04               28  ...                    15          chennai\n",
              " 0  2018-01-05               27  ...                    14          chennai\n",
              " ..        ...              ...  ...                   ...              ...\n",
              " 0  2019-12-27               28  ...                    11          chennai\n",
              " 0  2019-12-28               28  ...                    13          chennai\n",
              " 0  2019-12-29               28  ...                    16          chennai\n",
              " 0  2019-12-30               26  ...                    18          chennai\n",
              " 0  2019-12-31               28  ...                    17          chennai\n",
              " \n",
              " [730 rows x 25 columns]]"
            ]
          },
          "metadata": {
            "tags": []
          },
          "execution_count": 13
        }
      ]
    },
    {
      "cell_type": "code",
      "metadata": {
        "id": "HF7RPd21iE1Y",
        "colab_type": "code",
        "colab": {
          "base_uri": "https://localhost:8080/",
          "height": 35
        },
        "outputId": "1354d85b-0445-4be7-8679-5303dbd41c3a"
      },
      "source": [
        "type(hist_weather_data)"
      ],
      "execution_count": null,
      "outputs": [
        {
          "output_type": "execute_result",
          "data": {
            "text/plain": [
              "list"
            ]
          },
          "metadata": {
            "tags": []
          },
          "execution_count": 15
        }
      ]
    },
    {
      "cell_type": "code",
      "metadata": {
        "id": "5ePYq9VRi2mF",
        "colab_type": "code",
        "colab": {
          "base_uri": "https://localhost:8080/",
          "height": 439
        },
        "outputId": "92a3ee02-687f-4d33-d286-5de465b970c2"
      },
      "source": [
        "hist_weather_data[0]"
      ],
      "execution_count": 14,
      "outputs": [
        {
          "output_type": "execute_result",
          "data": {
            "text/html": [
              "<div>\n",
              "<style scoped>\n",
              "    .dataframe tbody tr th:only-of-type {\n",
              "        vertical-align: middle;\n",
              "    }\n",
              "\n",
              "    .dataframe tbody tr th {\n",
              "        vertical-align: top;\n",
              "    }\n",
              "\n",
              "    .dataframe thead th {\n",
              "        text-align: right;\n",
              "    }\n",
              "</style>\n",
              "<table border=\"1\" class=\"dataframe\">\n",
              "  <thead>\n",
              "    <tr style=\"text-align: right;\">\n",
              "      <th></th>\n",
              "      <th>date_time</th>\n",
              "      <th>chennai_maxtempC</th>\n",
              "      <th>chennai_mintempC</th>\n",
              "      <th>chennai_totalSnow_cm</th>\n",
              "      <th>chennai_sunHour</th>\n",
              "      <th>chennai_uvIndex</th>\n",
              "      <th>chennai_moon_illumination</th>\n",
              "      <th>chennai_moonrise</th>\n",
              "      <th>chennai_moonset</th>\n",
              "      <th>chennai_sunrise</th>\n",
              "      <th>chennai_sunset</th>\n",
              "      <th>chennai_DewPointC</th>\n",
              "      <th>chennai_FeelsLikeC</th>\n",
              "      <th>chennai_HeatIndexC</th>\n",
              "      <th>chennai_WindChillC</th>\n",
              "      <th>chennai_WindGustKmph</th>\n",
              "      <th>chennai_cloudcover</th>\n",
              "      <th>chennai_humidity</th>\n",
              "      <th>chennai_precipMM</th>\n",
              "      <th>chennai_pressure</th>\n",
              "      <th>chennai_tempC</th>\n",
              "      <th>chennai_visibility</th>\n",
              "      <th>chennai_winddirDegree</th>\n",
              "      <th>chennai_windspeedKmph</th>\n",
              "      <th>chennai_location</th>\n",
              "    </tr>\n",
              "  </thead>\n",
              "  <tbody>\n",
              "    <tr>\n",
              "      <th>0</th>\n",
              "      <td>2018-01-01</td>\n",
              "      <td>29</td>\n",
              "      <td>23</td>\n",
              "      <td>0.0</td>\n",
              "      <td>8.7</td>\n",
              "      <td>7</td>\n",
              "      <td>97</td>\n",
              "      <td>05:16 PM</td>\n",
              "      <td>05:22 AM</td>\n",
              "      <td>06:31 AM</td>\n",
              "      <td>05:54 PM</td>\n",
              "      <td>20</td>\n",
              "      <td>28</td>\n",
              "      <td>28</td>\n",
              "      <td>26</td>\n",
              "      <td>23</td>\n",
              "      <td>17</td>\n",
              "      <td>72</td>\n",
              "      <td>0.5</td>\n",
              "      <td>1009</td>\n",
              "      <td>29</td>\n",
              "      <td>10</td>\n",
              "      <td>182</td>\n",
              "      <td>16</td>\n",
              "      <td>chennai</td>\n",
              "    </tr>\n",
              "    <tr>\n",
              "      <th>0</th>\n",
              "      <td>2018-01-02</td>\n",
              "      <td>29</td>\n",
              "      <td>22</td>\n",
              "      <td>0.0</td>\n",
              "      <td>8.7</td>\n",
              "      <td>7</td>\n",
              "      <td>100</td>\n",
              "      <td>06:19 PM</td>\n",
              "      <td>06:26 AM</td>\n",
              "      <td>06:31 AM</td>\n",
              "      <td>05:54 PM</td>\n",
              "      <td>21</td>\n",
              "      <td>28</td>\n",
              "      <td>28</td>\n",
              "      <td>26</td>\n",
              "      <td>19</td>\n",
              "      <td>13</td>\n",
              "      <td>75</td>\n",
              "      <td>0.0</td>\n",
              "      <td>1010</td>\n",
              "      <td>29</td>\n",
              "      <td>10</td>\n",
              "      <td>107</td>\n",
              "      <td>14</td>\n",
              "      <td>chennai</td>\n",
              "    </tr>\n",
              "    <tr>\n",
              "      <th>0</th>\n",
              "      <td>2018-01-03</td>\n",
              "      <td>29</td>\n",
              "      <td>23</td>\n",
              "      <td>0.0</td>\n",
              "      <td>8.7</td>\n",
              "      <td>7</td>\n",
              "      <td>89</td>\n",
              "      <td>07:24 PM</td>\n",
              "      <td>07:29 AM</td>\n",
              "      <td>06:32 AM</td>\n",
              "      <td>05:55 PM</td>\n",
              "      <td>20</td>\n",
              "      <td>28</td>\n",
              "      <td>28</td>\n",
              "      <td>26</td>\n",
              "      <td>20</td>\n",
              "      <td>18</td>\n",
              "      <td>74</td>\n",
              "      <td>0.0</td>\n",
              "      <td>1011</td>\n",
              "      <td>29</td>\n",
              "      <td>10</td>\n",
              "      <td>33</td>\n",
              "      <td>15</td>\n",
              "      <td>chennai</td>\n",
              "    </tr>\n",
              "    <tr>\n",
              "      <th>0</th>\n",
              "      <td>2018-01-04</td>\n",
              "      <td>28</td>\n",
              "      <td>23</td>\n",
              "      <td>0.0</td>\n",
              "      <td>8.7</td>\n",
              "      <td>6</td>\n",
              "      <td>81</td>\n",
              "      <td>08:26 PM</td>\n",
              "      <td>08:28 AM</td>\n",
              "      <td>06:32 AM</td>\n",
              "      <td>05:55 PM</td>\n",
              "      <td>18</td>\n",
              "      <td>27</td>\n",
              "      <td>27</td>\n",
              "      <td>26</td>\n",
              "      <td>20</td>\n",
              "      <td>3</td>\n",
              "      <td>64</td>\n",
              "      <td>0.0</td>\n",
              "      <td>1013</td>\n",
              "      <td>28</td>\n",
              "      <td>10</td>\n",
              "      <td>44</td>\n",
              "      <td>15</td>\n",
              "      <td>chennai</td>\n",
              "    </tr>\n",
              "    <tr>\n",
              "      <th>0</th>\n",
              "      <td>2018-01-05</td>\n",
              "      <td>27</td>\n",
              "      <td>22</td>\n",
              "      <td>0.0</td>\n",
              "      <td>8.7</td>\n",
              "      <td>6</td>\n",
              "      <td>74</td>\n",
              "      <td>09:26 PM</td>\n",
              "      <td>09:22 AM</td>\n",
              "      <td>06:32 AM</td>\n",
              "      <td>05:56 PM</td>\n",
              "      <td>17</td>\n",
              "      <td>27</td>\n",
              "      <td>27</td>\n",
              "      <td>26</td>\n",
              "      <td>18</td>\n",
              "      <td>0</td>\n",
              "      <td>59</td>\n",
              "      <td>0.0</td>\n",
              "      <td>1012</td>\n",
              "      <td>27</td>\n",
              "      <td>10</td>\n",
              "      <td>45</td>\n",
              "      <td>14</td>\n",
              "      <td>chennai</td>\n",
              "    </tr>\n",
              "    <tr>\n",
              "      <th>...</th>\n",
              "      <td>...</td>\n",
              "      <td>...</td>\n",
              "      <td>...</td>\n",
              "      <td>...</td>\n",
              "      <td>...</td>\n",
              "      <td>...</td>\n",
              "      <td>...</td>\n",
              "      <td>...</td>\n",
              "      <td>...</td>\n",
              "      <td>...</td>\n",
              "      <td>...</td>\n",
              "      <td>...</td>\n",
              "      <td>...</td>\n",
              "      <td>...</td>\n",
              "      <td>...</td>\n",
              "      <td>...</td>\n",
              "      <td>...</td>\n",
              "      <td>...</td>\n",
              "      <td>...</td>\n",
              "      <td>...</td>\n",
              "      <td>...</td>\n",
              "      <td>...</td>\n",
              "      <td>...</td>\n",
              "      <td>...</td>\n",
              "      <td>...</td>\n",
              "    </tr>\n",
              "    <tr>\n",
              "      <th>0</th>\n",
              "      <td>2019-12-27</td>\n",
              "      <td>28</td>\n",
              "      <td>24</td>\n",
              "      <td>0.0</td>\n",
              "      <td>8.7</td>\n",
              "      <td>7</td>\n",
              "      <td>0</td>\n",
              "      <td>07:18 AM</td>\n",
              "      <td>06:57 PM</td>\n",
              "      <td>06:29 AM</td>\n",
              "      <td>05:51 PM</td>\n",
              "      <td>19</td>\n",
              "      <td>28</td>\n",
              "      <td>28</td>\n",
              "      <td>26</td>\n",
              "      <td>13</td>\n",
              "      <td>20</td>\n",
              "      <td>67</td>\n",
              "      <td>0.0</td>\n",
              "      <td>1011</td>\n",
              "      <td>28</td>\n",
              "      <td>10</td>\n",
              "      <td>80</td>\n",
              "      <td>11</td>\n",
              "      <td>chennai</td>\n",
              "    </tr>\n",
              "    <tr>\n",
              "      <th>0</th>\n",
              "      <td>2019-12-28</td>\n",
              "      <td>28</td>\n",
              "      <td>24</td>\n",
              "      <td>0.0</td>\n",
              "      <td>8.7</td>\n",
              "      <td>7</td>\n",
              "      <td>8</td>\n",
              "      <td>08:10 AM</td>\n",
              "      <td>07:51 PM</td>\n",
              "      <td>06:29 AM</td>\n",
              "      <td>05:51 PM</td>\n",
              "      <td>20</td>\n",
              "      <td>28</td>\n",
              "      <td>28</td>\n",
              "      <td>26</td>\n",
              "      <td>17</td>\n",
              "      <td>37</td>\n",
              "      <td>69</td>\n",
              "      <td>0.0</td>\n",
              "      <td>1012</td>\n",
              "      <td>28</td>\n",
              "      <td>10</td>\n",
              "      <td>54</td>\n",
              "      <td>13</td>\n",
              "      <td>chennai</td>\n",
              "    </tr>\n",
              "    <tr>\n",
              "      <th>0</th>\n",
              "      <td>2019-12-29</td>\n",
              "      <td>28</td>\n",
              "      <td>24</td>\n",
              "      <td>0.0</td>\n",
              "      <td>8.7</td>\n",
              "      <td>6</td>\n",
              "      <td>15</td>\n",
              "      <td>08:59 AM</td>\n",
              "      <td>08:43 PM</td>\n",
              "      <td>06:29 AM</td>\n",
              "      <td>05:52 PM</td>\n",
              "      <td>21</td>\n",
              "      <td>28</td>\n",
              "      <td>28</td>\n",
              "      <td>26</td>\n",
              "      <td>22</td>\n",
              "      <td>42</td>\n",
              "      <td>75</td>\n",
              "      <td>0.3</td>\n",
              "      <td>1013</td>\n",
              "      <td>28</td>\n",
              "      <td>10</td>\n",
              "      <td>47</td>\n",
              "      <td>16</td>\n",
              "      <td>chennai</td>\n",
              "    </tr>\n",
              "    <tr>\n",
              "      <th>0</th>\n",
              "      <td>2019-12-30</td>\n",
              "      <td>26</td>\n",
              "      <td>24</td>\n",
              "      <td>0.0</td>\n",
              "      <td>4.2</td>\n",
              "      <td>6</td>\n",
              "      <td>22</td>\n",
              "      <td>09:44 AM</td>\n",
              "      <td>09:34 PM</td>\n",
              "      <td>06:30 AM</td>\n",
              "      <td>05:52 PM</td>\n",
              "      <td>21</td>\n",
              "      <td>27</td>\n",
              "      <td>27</td>\n",
              "      <td>25</td>\n",
              "      <td>27</td>\n",
              "      <td>70</td>\n",
              "      <td>80</td>\n",
              "      <td>11.5</td>\n",
              "      <td>1013</td>\n",
              "      <td>26</td>\n",
              "      <td>9</td>\n",
              "      <td>64</td>\n",
              "      <td>18</td>\n",
              "      <td>chennai</td>\n",
              "    </tr>\n",
              "    <tr>\n",
              "      <th>0</th>\n",
              "      <td>2019-12-31</td>\n",
              "      <td>28</td>\n",
              "      <td>24</td>\n",
              "      <td>0.0</td>\n",
              "      <td>4.2</td>\n",
              "      <td>6</td>\n",
              "      <td>26</td>\n",
              "      <td>10:25 AM</td>\n",
              "      <td>10:21 PM</td>\n",
              "      <td>06:30 AM</td>\n",
              "      <td>05:53 PM</td>\n",
              "      <td>21</td>\n",
              "      <td>28</td>\n",
              "      <td>28</td>\n",
              "      <td>26</td>\n",
              "      <td>23</td>\n",
              "      <td>84</td>\n",
              "      <td>77</td>\n",
              "      <td>10.1</td>\n",
              "      <td>1013</td>\n",
              "      <td>28</td>\n",
              "      <td>9</td>\n",
              "      <td>64</td>\n",
              "      <td>17</td>\n",
              "      <td>chennai</td>\n",
              "    </tr>\n",
              "  </tbody>\n",
              "</table>\n",
              "<p>730 rows × 25 columns</p>\n",
              "</div>"
            ],
            "text/plain": [
              "    date_time chennai_maxtempC  ... chennai_windspeedKmph chennai_location\n",
              "0  2018-01-01               29  ...                    16          chennai\n",
              "0  2018-01-02               29  ...                    14          chennai\n",
              "0  2018-01-03               29  ...                    15          chennai\n",
              "0  2018-01-04               28  ...                    15          chennai\n",
              "0  2018-01-05               27  ...                    14          chennai\n",
              "..        ...              ...  ...                   ...              ...\n",
              "0  2019-12-27               28  ...                    11          chennai\n",
              "0  2019-12-28               28  ...                    13          chennai\n",
              "0  2019-12-29               28  ...                    16          chennai\n",
              "0  2019-12-30               26  ...                    18          chennai\n",
              "0  2019-12-31               28  ...                    17          chennai\n",
              "\n",
              "[730 rows x 25 columns]"
            ]
          },
          "metadata": {
            "tags": []
          },
          "execution_count": 14
        }
      ]
    },
    {
      "cell_type": "code",
      "metadata": {
        "id": "GjkWmbQGjZZ8",
        "colab_type": "code",
        "colab": {}
      },
      "source": [
        ""
      ],
      "execution_count": null,
      "outputs": []
    }
  ]
}
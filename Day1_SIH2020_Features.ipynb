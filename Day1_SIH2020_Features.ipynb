{
  "nbformat": 4,
  "nbformat_minor": 0,
  "metadata": {
    "colab": {
      "name": "Day1_SIH2020_Features.ipynb",
      "provenance": []
    },
    "kernelspec": {
      "name": "python3",
      "display_name": "Python 3"
    }
  },
  "cells": [
    {
      "cell_type": "code",
      "metadata": {
        "id": "IPXP2wU6dtUv",
        "colab_type": "code",
        "colab": {
          "base_uri": "https://localhost:8080/",
          "height": 269
        },
        "outputId": "4614ef8a-b643-4421-baee-6902a4a08b08"
      },
      "source": [
        "pip install request"
      ],
      "execution_count": null,
      "outputs": [
        {
          "output_type": "stream",
          "text": [
            "Collecting request\n",
            "  Downloading https://files.pythonhosted.org/packages/67/fc/30193d66338a12cc1389e799a4fa27d29763cb075ced80fa2be9b2571224/request-1.0.117.tar.gz\n",
            "Requirement already satisfied: requests in /usr/local/lib/python3.6/dist-packages (from request) (2.23.0)\n",
            "Requirement already satisfied: urllib3!=1.25.0,!=1.25.1,<1.26,>=1.21.1 in /usr/local/lib/python3.6/dist-packages (from requests->request) (1.24.3)\n",
            "Requirement already satisfied: idna<3,>=2.5 in /usr/local/lib/python3.6/dist-packages (from requests->request) (2.10)\n",
            "Requirement already satisfied: certifi>=2017.4.17 in /usr/local/lib/python3.6/dist-packages (from requests->request) (2020.6.20)\n",
            "Requirement already satisfied: chardet<4,>=3.0.2 in /usr/local/lib/python3.6/dist-packages (from requests->request) (3.0.4)\n",
            "Building wheels for collected packages: request\n",
            "  Building wheel for request (setup.py) ... \u001b[?25l\u001b[?25hdone\n",
            "  Created wheel for request: filename=request-1.0.117-cp36-none-any.whl size=3243 sha256=fdabadf1762e7b6b5eebea54ab70a8d81b614e0b3ffb501eed2ebbdb07b9d44b\n",
            "  Stored in directory: /root/.cache/pip/wheels/13/02/26/ebf7ccd8b7380de255a48c5cfa4db0b4ced374dd0f15ab7e73\n",
            "Successfully built request\n",
            "Installing collected packages: request\n",
            "Successfully installed request-1.0.117\n"
          ],
          "name": "stdout"
        }
      ]
    },
    {
      "cell_type": "code",
      "metadata": {
        "id": "HNV_T2GodwZQ",
        "colab_type": "code",
        "colab": {
          "base_uri": "https://localhost:8080/",
          "height": 89
        },
        "outputId": "37362518-7ecf-4c33-b60c-cde173f3b874"
      },
      "source": [
        "pip install wwo-hist"
      ],
      "execution_count": null,
      "outputs": [
        {
          "output_type": "stream",
          "text": [
            "Collecting wwo-hist\n",
            "  Downloading https://files.pythonhosted.org/packages/5a/b4/19a4d6a0d131567cf4b2ffa3758710d867f7d7d3f0c6f94bd63fadf1d02a/wwo_hist-0.0.5-py3-none-any.whl\n",
            "Installing collected packages: wwo-hist\n",
            "Successfully installed wwo-hist-0.0.5\n"
          ],
          "name": "stdout"
        }
      ]
    },
    {
      "cell_type": "code",
      "metadata": {
        "id": "KuE5G0QLeXSH",
        "colab_type": "code",
        "colab": {}
      },
      "source": [
        "from wwo_hist import retrieve_hist_data"
      ],
      "execution_count": null,
      "outputs": []
    },
    {
      "cell_type": "code",
      "metadata": {
        "id": "z2hKobmQgEv2",
        "colab_type": "code",
        "colab": {}
      },
      "source": [
        "import os\n",
        "os.chdir(\"\")"
      ],
      "execution_count": null,
      "outputs": []
    },
    {
      "cell_type": "markdown",
      "metadata": {
        "id": "07zvlWdLpXAc",
        "colab_type": "text"
      },
      "source": [
        "# Features under exploration\n",
        "\n",
        "- Rainfall.   - Wold weather online.com API\n",
        "- Elvation    - World weather online.com API\n",
        "- Humidity    - World weather online.com API\n",
        "\n",
        "\n"
      ]
    },
    {
      "cell_type": "code",
      "metadata": {
        "id": "EPiZCx3Cefi9",
        "colab_type": "code",
        "colab": {
          "base_uri": "https://localhost:8080/",
          "height": 1000
        },
        "outputId": "ca3724e1-95ae-4fe3-f6bf-9c0415e0bb99"
      },
      "source": [
        "frequency=24\n",
        "start_date = '01-JAN-2018'\n",
        "end_date = '31-DEC-2019'\n",
        "api_key = '449f0a6375314d9994e140823200108'\n",
        "location_list = ['Banaskantha']\n",
        "\n",
        "hist_weather_data = retrieve_hist_data(api_key,\n",
        "                                location_list,\n",
        "                                start_date,\n",
        "                                end_date,\n",
        "                                frequency,\n",
        "                                location_label = True,\n",
        "                                export_csv = True,\n",
        "                                store_df = True)"
      ],
      "execution_count": null,
      "outputs": [
        {
          "output_type": "stream",
          "text": [
            "\n",
            "\n",
            "Retrieving weather data for Banaskantha\n",
            "\n",
            "\n",
            "Currently retrieving data for Banaskantha: from 2018-01-01 to 2018-01-31\n",
            "Time elapsed (hh:mm:ss.ms) 0:00:01.018544\n",
            "Currently retrieving data for Banaskantha: from 2018-02-01 to 2018-02-28\n",
            "Time elapsed (hh:mm:ss.ms) 0:00:02.081457\n",
            "Currently retrieving data for Banaskantha: from 2018-03-01 to 2018-03-31\n",
            "Time elapsed (hh:mm:ss.ms) 0:00:03.118871\n",
            "Currently retrieving data for Banaskantha: from 2018-04-01 to 2018-04-30\n",
            "Time elapsed (hh:mm:ss.ms) 0:00:04.224967\n",
            "Currently retrieving data for Banaskantha: from 2018-05-01 to 2018-05-31\n",
            "Time elapsed (hh:mm:ss.ms) 0:00:05.267815\n",
            "Currently retrieving data for Banaskantha: from 2018-06-01 to 2018-06-30\n",
            "Time elapsed (hh:mm:ss.ms) 0:00:06.359005\n",
            "Currently retrieving data for Banaskantha: from 2018-07-01 to 2018-07-31\n",
            "Time elapsed (hh:mm:ss.ms) 0:00:07.432291\n",
            "Currently retrieving data for Banaskantha: from 2018-08-01 to 2018-08-31\n",
            "Time elapsed (hh:mm:ss.ms) 0:00:08.556177\n",
            "Currently retrieving data for Banaskantha: from 2018-09-01 to 2018-09-30\n",
            "Time elapsed (hh:mm:ss.ms) 0:00:09.570374\n",
            "Currently retrieving data for Banaskantha: from 2018-10-01 to 2018-10-31\n",
            "Time elapsed (hh:mm:ss.ms) 0:00:10.582848\n",
            "Currently retrieving data for Banaskantha: from 2018-11-01 to 2018-11-30\n",
            "Time elapsed (hh:mm:ss.ms) 0:00:11.598299\n",
            "Currently retrieving data for Banaskantha: from 2018-12-01 to 2018-12-31\n",
            "Time elapsed (hh:mm:ss.ms) 0:00:12.622870\n",
            "Currently retrieving data for Banaskantha: from 2019-01-01 to 2019-01-31\n",
            "Time elapsed (hh:mm:ss.ms) 0:00:13.645743\n",
            "Currently retrieving data for Banaskantha: from 2019-02-01 to 2019-02-28\n",
            "Time elapsed (hh:mm:ss.ms) 0:00:14.608152\n",
            "Currently retrieving data for Banaskantha: from 2019-03-01 to 2019-03-31\n",
            "Time elapsed (hh:mm:ss.ms) 0:00:15.599512\n",
            "Currently retrieving data for Banaskantha: from 2019-04-01 to 2019-04-30\n",
            "Time elapsed (hh:mm:ss.ms) 0:00:16.610996\n",
            "Currently retrieving data for Banaskantha: from 2019-05-01 to 2019-05-31\n",
            "Time elapsed (hh:mm:ss.ms) 0:00:17.658150\n",
            "Currently retrieving data for Banaskantha: from 2019-06-01 to 2019-06-30\n",
            "Time elapsed (hh:mm:ss.ms) 0:00:18.712851\n",
            "Currently retrieving data for Banaskantha: from 2019-07-01 to 2019-07-31\n",
            "Time elapsed (hh:mm:ss.ms) 0:00:19.710757\n",
            "Currently retrieving data for Banaskantha: from 2019-08-01 to 2019-08-31\n",
            "Time elapsed (hh:mm:ss.ms) 0:00:20.723410\n",
            "Currently retrieving data for Banaskantha: from 2019-09-01 to 2019-09-30\n",
            "Time elapsed (hh:mm:ss.ms) 0:00:21.791521\n",
            "Currently retrieving data for Banaskantha: from 2019-10-01 to 2019-10-31\n",
            "Time elapsed (hh:mm:ss.ms) 0:00:22.831676\n",
            "Currently retrieving data for Banaskantha: from 2019-11-01 to 2019-11-30\n",
            "Time elapsed (hh:mm:ss.ms) 0:00:23.828140\n",
            "Currently retrieving data for Banaskantha: from 2019-12-01 to 2019-12-31\n",
            "Time elapsed (hh:mm:ss.ms) 0:00:24.847070\n",
            "\n",
            "\n",
            "export Banaskantha completed!\n",
            "\n",
            "\n"
          ],
          "name": "stdout"
        }
      ]
    },
    {
      "cell_type": "code",
      "metadata": {
        "id": "p13ED144gdCM",
        "colab_type": "code",
        "colab": {
          "base_uri": "https://localhost:8080/",
          "height": 269
        },
        "outputId": "492b9d6f-0c90-4051-f44b-569d459205db"
      },
      "source": [
        "display(hist_weather_data)"
      ],
      "execution_count": null,
      "outputs": [
        {
          "output_type": "display_data",
          "data": {
            "text/plain": [
              "[             date_time  ... Banaskantha_location\n",
              " 0  2018-01-01 00:00:00  ...          Banaskantha\n",
              " 1  2018-01-01 03:00:00  ...          Banaskantha\n",
              " 2  2018-01-01 06:00:00  ...          Banaskantha\n",
              " 3  2018-01-01 09:00:00  ...          Banaskantha\n",
              " 4  2018-01-01 12:00:00  ...          Banaskantha\n",
              " ..                 ...  ...                  ...\n",
              " 3  2019-12-31 09:00:00  ...          Banaskantha\n",
              " 4  2019-12-31 12:00:00  ...          Banaskantha\n",
              " 5  2019-12-31 15:00:00  ...          Banaskantha\n",
              " 6  2019-12-31 18:00:00  ...          Banaskantha\n",
              " 7  2019-12-31 21:00:00  ...          Banaskantha\n",
              " \n",
              " [5840 rows x 25 columns]]"
            ]
          },
          "metadata": {
            "tags": []
          }
        }
      ]
    },
    {
      "cell_type": "code",
      "metadata": {
        "id": "q5IiVbFkgx4m",
        "colab_type": "code",
        "colab": {}
      },
      "source": [
        "import pandas as pd\n",
        "df = pd.DataFrame(hist_weather_data)"
      ],
      "execution_count": null,
      "outputs": []
    },
    {
      "cell_type": "code",
      "metadata": {
        "id": "XGbpU8Ajh_-u",
        "colab_type": "code",
        "colab": {
          "base_uri": "https://localhost:8080/",
          "height": 269
        },
        "outputId": "5882726e-5927-467e-8198-59356396ad84"
      },
      "source": [
        "hist_weather_data"
      ],
      "execution_count": null,
      "outputs": [
        {
          "output_type": "execute_result",
          "data": {
            "text/plain": [
              "[             date_time  ... Banaskantha_location\n",
              " 0  2018-01-01 00:00:00  ...          Banaskantha\n",
              " 1  2018-01-01 03:00:00  ...          Banaskantha\n",
              " 2  2018-01-01 06:00:00  ...          Banaskantha\n",
              " 3  2018-01-01 09:00:00  ...          Banaskantha\n",
              " 4  2018-01-01 12:00:00  ...          Banaskantha\n",
              " ..                 ...  ...                  ...\n",
              " 3  2019-12-31 09:00:00  ...          Banaskantha\n",
              " 4  2019-12-31 12:00:00  ...          Banaskantha\n",
              " 5  2019-12-31 15:00:00  ...          Banaskantha\n",
              " 6  2019-12-31 18:00:00  ...          Banaskantha\n",
              " 7  2019-12-31 21:00:00  ...          Banaskantha\n",
              " \n",
              " [5840 rows x 25 columns]]"
            ]
          },
          "metadata": {
            "tags": []
          },
          "execution_count": 14
        }
      ]
    },
    {
      "cell_type": "code",
      "metadata": {
        "id": "HF7RPd21iE1Y",
        "colab_type": "code",
        "colab": {
          "base_uri": "https://localhost:8080/",
          "height": 35
        },
        "outputId": "1354d85b-0445-4be7-8679-5303dbd41c3a"
      },
      "source": [
        "type(hist_weather_data)"
      ],
      "execution_count": null,
      "outputs": [
        {
          "output_type": "execute_result",
          "data": {
            "text/plain": [
              "list"
            ]
          },
          "metadata": {
            "tags": []
          },
          "execution_count": 15
        }
      ]
    },
    {
      "cell_type": "code",
      "metadata": {
        "id": "5ePYq9VRi2mF",
        "colab_type": "code",
        "colab": {
          "base_uri": "https://localhost:8080/",
          "height": 439
        },
        "outputId": "b1c5bc71-a1a1-40c0-c00d-2d4748984f24"
      },
      "source": [
        "hist_weather_data[0]"
      ],
      "execution_count": null,
      "outputs": [
        {
          "output_type": "execute_result",
          "data": {
            "text/html": [
              "<div>\n",
              "<style scoped>\n",
              "    .dataframe tbody tr th:only-of-type {\n",
              "        vertical-align: middle;\n",
              "    }\n",
              "\n",
              "    .dataframe tbody tr th {\n",
              "        vertical-align: top;\n",
              "    }\n",
              "\n",
              "    .dataframe thead th {\n",
              "        text-align: right;\n",
              "    }\n",
              "</style>\n",
              "<table border=\"1\" class=\"dataframe\">\n",
              "  <thead>\n",
              "    <tr style=\"text-align: right;\">\n",
              "      <th></th>\n",
              "      <th>date_time</th>\n",
              "      <th>Banaskantha_maxtempC</th>\n",
              "      <th>Banaskantha_mintempC</th>\n",
              "      <th>Banaskantha_totalSnow_cm</th>\n",
              "      <th>Banaskantha_sunHour</th>\n",
              "      <th>Banaskantha_uvIndex</th>\n",
              "      <th>Banaskantha_moon_illumination</th>\n",
              "      <th>Banaskantha_moonrise</th>\n",
              "      <th>Banaskantha_moonset</th>\n",
              "      <th>Banaskantha_sunrise</th>\n",
              "      <th>Banaskantha_sunset</th>\n",
              "      <th>Banaskantha_DewPointC</th>\n",
              "      <th>Banaskantha_FeelsLikeC</th>\n",
              "      <th>Banaskantha_HeatIndexC</th>\n",
              "      <th>Banaskantha_WindChillC</th>\n",
              "      <th>Banaskantha_WindGustKmph</th>\n",
              "      <th>Banaskantha_cloudcover</th>\n",
              "      <th>Banaskantha_humidity</th>\n",
              "      <th>Banaskantha_precipMM</th>\n",
              "      <th>Banaskantha_pressure</th>\n",
              "      <th>Banaskantha_tempC</th>\n",
              "      <th>Banaskantha_visibility</th>\n",
              "      <th>Banaskantha_winddirDegree</th>\n",
              "      <th>Banaskantha_windspeedKmph</th>\n",
              "      <th>Banaskantha_location</th>\n",
              "    </tr>\n",
              "  </thead>\n",
              "  <tbody>\n",
              "    <tr>\n",
              "      <th>0</th>\n",
              "      <td>2018-01-01</td>\n",
              "      <td>26</td>\n",
              "      <td>14</td>\n",
              "      <td>0.0</td>\n",
              "      <td>10.8</td>\n",
              "      <td>5</td>\n",
              "      <td>97</td>\n",
              "      <td>05:30 PM</td>\n",
              "      <td>06:13 AM</td>\n",
              "      <td>07:23 AM</td>\n",
              "      <td>06:04 PM</td>\n",
              "      <td>3</td>\n",
              "      <td>21</td>\n",
              "      <td>20</td>\n",
              "      <td>21</td>\n",
              "      <td>18</td>\n",
              "      <td>0</td>\n",
              "      <td>31</td>\n",
              "      <td>0.0</td>\n",
              "      <td>1013</td>\n",
              "      <td>26</td>\n",
              "      <td>10</td>\n",
              "      <td>107</td>\n",
              "      <td>10</td>\n",
              "      <td>Banaskantha</td>\n",
              "    </tr>\n",
              "    <tr>\n",
              "      <th>0</th>\n",
              "      <td>2018-01-02</td>\n",
              "      <td>27</td>\n",
              "      <td>15</td>\n",
              "      <td>0.0</td>\n",
              "      <td>10.8</td>\n",
              "      <td>5</td>\n",
              "      <td>100</td>\n",
              "      <td>06:33 PM</td>\n",
              "      <td>07:18 AM</td>\n",
              "      <td>07:24 AM</td>\n",
              "      <td>06:05 PM</td>\n",
              "      <td>-2</td>\n",
              "      <td>20</td>\n",
              "      <td>20</td>\n",
              "      <td>20</td>\n",
              "      <td>20</td>\n",
              "      <td>0</td>\n",
              "      <td>24</td>\n",
              "      <td>0.0</td>\n",
              "      <td>1013</td>\n",
              "      <td>27</td>\n",
              "      <td>10</td>\n",
              "      <td>68</td>\n",
              "      <td>11</td>\n",
              "      <td>Banaskantha</td>\n",
              "    </tr>\n",
              "    <tr>\n",
              "      <th>0</th>\n",
              "      <td>2018-01-03</td>\n",
              "      <td>25</td>\n",
              "      <td>13</td>\n",
              "      <td>0.0</td>\n",
              "      <td>10.8</td>\n",
              "      <td>5</td>\n",
              "      <td>89</td>\n",
              "      <td>07:40 PM</td>\n",
              "      <td>08:19 AM</td>\n",
              "      <td>07:24 AM</td>\n",
              "      <td>06:05 PM</td>\n",
              "      <td>1</td>\n",
              "      <td>19</td>\n",
              "      <td>19</td>\n",
              "      <td>19</td>\n",
              "      <td>18</td>\n",
              "      <td>0</td>\n",
              "      <td>29</td>\n",
              "      <td>0.0</td>\n",
              "      <td>1014</td>\n",
              "      <td>25</td>\n",
              "      <td>10</td>\n",
              "      <td>140</td>\n",
              "      <td>10</td>\n",
              "      <td>Banaskantha</td>\n",
              "    </tr>\n",
              "    <tr>\n",
              "      <th>0</th>\n",
              "      <td>2018-01-04</td>\n",
              "      <td>26</td>\n",
              "      <td>14</td>\n",
              "      <td>0.0</td>\n",
              "      <td>10.8</td>\n",
              "      <td>5</td>\n",
              "      <td>81</td>\n",
              "      <td>08:45 PM</td>\n",
              "      <td>09:16 AM</td>\n",
              "      <td>07:24 AM</td>\n",
              "      <td>06:06 PM</td>\n",
              "      <td>1</td>\n",
              "      <td>21</td>\n",
              "      <td>21</td>\n",
              "      <td>21</td>\n",
              "      <td>13</td>\n",
              "      <td>0</td>\n",
              "      <td>27</td>\n",
              "      <td>0.0</td>\n",
              "      <td>1014</td>\n",
              "      <td>26</td>\n",
              "      <td>10</td>\n",
              "      <td>203</td>\n",
              "      <td>7</td>\n",
              "      <td>Banaskantha</td>\n",
              "    </tr>\n",
              "    <tr>\n",
              "      <th>0</th>\n",
              "      <td>2018-01-05</td>\n",
              "      <td>26</td>\n",
              "      <td>14</td>\n",
              "      <td>0.0</td>\n",
              "      <td>10.8</td>\n",
              "      <td>5</td>\n",
              "      <td>74</td>\n",
              "      <td>09:49 PM</td>\n",
              "      <td>10:06 AM</td>\n",
              "      <td>07:24 AM</td>\n",
              "      <td>06:07 PM</td>\n",
              "      <td>7</td>\n",
              "      <td>22</td>\n",
              "      <td>22</td>\n",
              "      <td>22</td>\n",
              "      <td>10</td>\n",
              "      <td>1</td>\n",
              "      <td>40</td>\n",
              "      <td>0.0</td>\n",
              "      <td>1014</td>\n",
              "      <td>26</td>\n",
              "      <td>10</td>\n",
              "      <td>168</td>\n",
              "      <td>6</td>\n",
              "      <td>Banaskantha</td>\n",
              "    </tr>\n",
              "    <tr>\n",
              "      <th>...</th>\n",
              "      <td>...</td>\n",
              "      <td>...</td>\n",
              "      <td>...</td>\n",
              "      <td>...</td>\n",
              "      <td>...</td>\n",
              "      <td>...</td>\n",
              "      <td>...</td>\n",
              "      <td>...</td>\n",
              "      <td>...</td>\n",
              "      <td>...</td>\n",
              "      <td>...</td>\n",
              "      <td>...</td>\n",
              "      <td>...</td>\n",
              "      <td>...</td>\n",
              "      <td>...</td>\n",
              "      <td>...</td>\n",
              "      <td>...</td>\n",
              "      <td>...</td>\n",
              "      <td>...</td>\n",
              "      <td>...</td>\n",
              "      <td>...</td>\n",
              "      <td>...</td>\n",
              "      <td>...</td>\n",
              "      <td>...</td>\n",
              "      <td>...</td>\n",
              "    </tr>\n",
              "    <tr>\n",
              "      <th>0</th>\n",
              "      <td>2019-12-27</td>\n",
              "      <td>24</td>\n",
              "      <td>13</td>\n",
              "      <td>0.0</td>\n",
              "      <td>10.8</td>\n",
              "      <td>5</td>\n",
              "      <td>0</td>\n",
              "      <td>08:12 AM</td>\n",
              "      <td>07:07 PM</td>\n",
              "      <td>07:21 AM</td>\n",
              "      <td>06:01 PM</td>\n",
              "      <td>-2</td>\n",
              "      <td>17</td>\n",
              "      <td>18</td>\n",
              "      <td>17</td>\n",
              "      <td>24</td>\n",
              "      <td>0</td>\n",
              "      <td>26</td>\n",
              "      <td>0.0</td>\n",
              "      <td>1016</td>\n",
              "      <td>24</td>\n",
              "      <td>10</td>\n",
              "      <td>96</td>\n",
              "      <td>14</td>\n",
              "      <td>Banaskantha</td>\n",
              "    </tr>\n",
              "    <tr>\n",
              "      <th>0</th>\n",
              "      <td>2019-12-28</td>\n",
              "      <td>25</td>\n",
              "      <td>12</td>\n",
              "      <td>0.0</td>\n",
              "      <td>10.8</td>\n",
              "      <td>5</td>\n",
              "      <td>8</td>\n",
              "      <td>09:04 AM</td>\n",
              "      <td>08:03 PM</td>\n",
              "      <td>07:22 AM</td>\n",
              "      <td>06:01 PM</td>\n",
              "      <td>-3</td>\n",
              "      <td>17</td>\n",
              "      <td>19</td>\n",
              "      <td>17</td>\n",
              "      <td>25</td>\n",
              "      <td>0</td>\n",
              "      <td>25</td>\n",
              "      <td>0.0</td>\n",
              "      <td>1016</td>\n",
              "      <td>25</td>\n",
              "      <td>10</td>\n",
              "      <td>93</td>\n",
              "      <td>14</td>\n",
              "      <td>Banaskantha</td>\n",
              "    </tr>\n",
              "    <tr>\n",
              "      <th>0</th>\n",
              "      <td>2019-12-29</td>\n",
              "      <td>26</td>\n",
              "      <td>12</td>\n",
              "      <td>0.0</td>\n",
              "      <td>10.8</td>\n",
              "      <td>5</td>\n",
              "      <td>15</td>\n",
              "      <td>09:50 AM</td>\n",
              "      <td>08:58 PM</td>\n",
              "      <td>07:22 AM</td>\n",
              "      <td>06:02 PM</td>\n",
              "      <td>-1</td>\n",
              "      <td>18</td>\n",
              "      <td>18</td>\n",
              "      <td>18</td>\n",
              "      <td>21</td>\n",
              "      <td>0</td>\n",
              "      <td>29</td>\n",
              "      <td>0.0</td>\n",
              "      <td>1016</td>\n",
              "      <td>26</td>\n",
              "      <td>10</td>\n",
              "      <td>167</td>\n",
              "      <td>11</td>\n",
              "      <td>Banaskantha</td>\n",
              "    </tr>\n",
              "    <tr>\n",
              "      <th>0</th>\n",
              "      <td>2019-12-30</td>\n",
              "      <td>28</td>\n",
              "      <td>14</td>\n",
              "      <td>0.0</td>\n",
              "      <td>10.8</td>\n",
              "      <td>6</td>\n",
              "      <td>22</td>\n",
              "      <td>10:31 AM</td>\n",
              "      <td>09:52 PM</td>\n",
              "      <td>07:23 AM</td>\n",
              "      <td>06:02 PM</td>\n",
              "      <td>4</td>\n",
              "      <td>20</td>\n",
              "      <td>21</td>\n",
              "      <td>20</td>\n",
              "      <td>14</td>\n",
              "      <td>0</td>\n",
              "      <td>35</td>\n",
              "      <td>0.0</td>\n",
              "      <td>1014</td>\n",
              "      <td>28</td>\n",
              "      <td>10</td>\n",
              "      <td>161</td>\n",
              "      <td>8</td>\n",
              "      <td>Banaskantha</td>\n",
              "    </tr>\n",
              "    <tr>\n",
              "      <th>0</th>\n",
              "      <td>2019-12-31</td>\n",
              "      <td>28</td>\n",
              "      <td>15</td>\n",
              "      <td>0.0</td>\n",
              "      <td>10.8</td>\n",
              "      <td>6</td>\n",
              "      <td>26</td>\n",
              "      <td>11:09 AM</td>\n",
              "      <td>10:43 PM</td>\n",
              "      <td>07:23 AM</td>\n",
              "      <td>06:03 PM</td>\n",
              "      <td>7</td>\n",
              "      <td>20</td>\n",
              "      <td>21</td>\n",
              "      <td>20</td>\n",
              "      <td>14</td>\n",
              "      <td>2</td>\n",
              "      <td>43</td>\n",
              "      <td>0.0</td>\n",
              "      <td>1015</td>\n",
              "      <td>28</td>\n",
              "      <td>10</td>\n",
              "      <td>134</td>\n",
              "      <td>8</td>\n",
              "      <td>Banaskantha</td>\n",
              "    </tr>\n",
              "  </tbody>\n",
              "</table>\n",
              "<p>730 rows × 25 columns</p>\n",
              "</div>"
            ],
            "text/plain": [
              "    date_time  ... Banaskantha_location\n",
              "0  2018-01-01  ...          Banaskantha\n",
              "0  2018-01-02  ...          Banaskantha\n",
              "0  2018-01-03  ...          Banaskantha\n",
              "0  2018-01-04  ...          Banaskantha\n",
              "0  2018-01-05  ...          Banaskantha\n",
              "..        ...  ...                  ...\n",
              "0  2019-12-27  ...          Banaskantha\n",
              "0  2019-12-28  ...          Banaskantha\n",
              "0  2019-12-29  ...          Banaskantha\n",
              "0  2019-12-30  ...          Banaskantha\n",
              "0  2019-12-31  ...          Banaskantha\n",
              "\n",
              "[730 rows x 25 columns]"
            ]
          },
          "metadata": {
            "tags": []
          },
          "execution_count": 23
        }
      ]
    },
    {
      "cell_type": "code",
      "metadata": {
        "id": "GjkWmbQGjZZ8",
        "colab_type": "code",
        "colab": {}
      },
      "source": [
        ""
      ],
      "execution_count": null,
      "outputs": []
    }
  ]
}